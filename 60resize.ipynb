{
  "cells": [
    {
      "cell_type": "code",
      "execution_count": null,
      "metadata": {
        "id": "CW1RZvxnxGU-"
      },
      "outputs": [],
      "source": [
        "import torch\n",
        "import torchvision.transforms as tf\n",
        "\n",
        "from torchvision.datasets import ImageFolder\n",
        "from torch.utils.data.dataloader import DataLoader\n",
        "\n",
        "\n",
        "# ❶ 이미지의 전처리 과정\n",
        "transforms = tf.Compose([\n",
        "   tf.Resize(64),\n",
        "   tf.CenterCrop(64),\n",
        "   tf.ToTensor(),\n",
        "   tf.Normalize((0.5, 0.5, 0.5), (0.5, 0.5, 0.5))\n",
        "])\n",
        "\n",
        "\n",
        "# ❷ ImageFolder()를 이용해 데이터셋을 작성\n",
        "# root는 최상위 경로를, transform은 전처리를 의미합니다.\n",
        "dataset = ImageFolder(\n",
        "   root=\"C:/Users/PC/Desktop/new\",\n",
        "   transform=transforms\n",
        ")\n",
        "loader = DataLoader(dataset, batch_size=128, shuffle=True)"
      ]
    },
    {
      "cell_type": "code",
      "execution_count": null,
      "metadata": {
        "id": "SR3-_sM8xGVB"
      },
      "outputs": [],
      "source": [
        "import torch.nn as nn\n",
        "\n",
        "\n",
        "class Generator(nn.Module):\n",
        "   def __init__(self):\n",
        "       super(Generator, self).__init__()\n",
        "\n",
        "       # 생성자를 구성하는 층 정의\n",
        "       self.gen = nn.Sequential(\n",
        "           nn.ConvTranspose2d(100, 512, kernel_size=4, bias=False),\n",
        "           nn.BatchNorm2d(512),\n",
        "           nn.ReLU(),\n",
        "\n",
        "           nn.ConvTranspose2d(512, 256, kernel_size=4,\n",
        "                              stride=2, padding=1, bias=False),\n",
        "           nn.BatchNorm2d(256),\n",
        "           nn.ReLU(),\n",
        "\n",
        "           nn.ConvTranspose2d(256, 128, kernel_size=4,\n",
        "                              stride=2, padding=1, bias=False),\n",
        "           nn.BatchNorm2d(128),\n",
        "           nn.ReLU(),\n",
        "\n",
        "           nn.ConvTranspose2d(128, 64, kernel_size=4,\n",
        "                              stride=2, padding=1, bias=False),\n",
        "           nn.BatchNorm2d(64),\n",
        "           nn.ReLU(),\n",
        "\n",
        "           nn.ConvTranspose2d(64, 3, kernel_size=4,\n",
        "                              stride=2, padding=1, bias=False),\n",
        "           nn.Tanh()\n",
        "       )\n",
        "\n",
        "   def forward(self, x):\n",
        "       return self.gen(x)"
      ]
    },
    {
      "cell_type": "code",
      "execution_count": null,
      "metadata": {
        "id": "90NCG2iCxGVC"
      },
      "outputs": [],
      "source": [
        "class Discriminator(nn.Module):\n",
        "   def __init__(self):\n",
        "       super(Discriminator, self).__init__()\n",
        "\n",
        "       # 감별자를 구성하는 층의 정의\n",
        "       self.disc = nn.Sequential(\n",
        "           nn.Conv2d(3, 64, kernel_size=4,\n",
        "                     stride=2, padding=1, bias=False),\n",
        "           nn.BatchNorm2d(64),\n",
        "           nn.LeakyReLU(0.2),\n",
        "\n",
        "           nn.Conv2d(64, 128, kernel_size=4,\n",
        "                     stride=2, padding=1, bias=False),\n",
        "           nn.BatchNorm2d(128),\n",
        "           nn.LeakyReLU(0.2),\n",
        "\n",
        "           nn.Conv2d(128, 256, kernel_size=4,\n",
        "                     stride=2, padding=1, bias=False),\n",
        "           nn.BatchNorm2d(256),\n",
        "           nn.LeakyReLU(0.2),\n",
        "\n",
        "           nn.Conv2d(256, 512, kernel_size=4,\n",
        "                     stride=2, padding=1, bias=False),\n",
        "           nn.BatchNorm2d(512),\n",
        "           nn.LeakyReLU(0.2),\n",
        "\n",
        "           nn.Conv2d(512, 1, kernel_size=4),\n",
        "           nn.Sigmoid()\n",
        "       )\n",
        "\n",
        "   def forward(self, x):\n",
        "       return self.disc(x)"
      ]
    },
    {
      "cell_type": "code",
      "execution_count": null,
      "metadata": {
        "id": "-a9enjXOxGVC"
      },
      "outputs": [],
      "source": [
        "def weights_init(m):\n",
        "   # 층의 종류 추출\n",
        "   classname = m.__class__.__name__\n",
        "   if classname.find('Conv') != -1:\n",
        "       # 합성곱층 초기화\n",
        "       nn.init.normal_(m.weight.data, 0.0, 0.02)\n",
        "   elif classname.find('BatchNorm') != -1:\n",
        "       # 배치정규화층 초기화\n",
        "       nn.init.normal_(m.weight.data, 1.0, 0.02)\n",
        "       nn.init.constant_(m.bias.data, 0)"
      ]
    },
    {
      "cell_type": "code",
      "execution_count": null,
      "metadata": {
        "id": "Y7qq-VfLxGVC"
      },
      "outputs": [],
      "source": [
        "device = \"cuda\" if torch.cuda.is_available() else \"cpu\"\n",
        "\n",
        "# 생성자 정의\n",
        "G = Generator().to(device)\n",
        "# ❶ 생성자 가중치 초기화\n",
        "G.apply(weights_init)\n",
        "\n",
        "# 감별자 정의\n",
        "D = Discriminator().to(device)\n",
        "# ❷ 감별자 가중치 초기화\n",
        "D.apply(weights_init)\n",
        "\n",
        "import tqdm\n",
        "\n",
        "from torch.optim.adam import Adam\n",
        "\n",
        "G_optim = Adam(G.parameters(), lr=0.0001, betas=(0.5, 0.999))\n",
        "D_optim = Adam(D.parameters(), lr=0.0001, betas=(0.5, 0.999))"
      ]
    },
    {
      "cell_type": "code",
      "execution_count": null,
      "metadata": {
        "id": "bZ08az83xGVD",
        "outputId": "fbae06cb-53fc-464c-e1a0-ac728dbb6836"
      },
      "outputs": [
        {
          "name": "stderr",
          "output_type": "stream",
          "text": [
            "epoch:0 iteration:147 D_loss:0.06424912810325623 G_loss:8.257247924804688: 100%|██████████| 148/148 [02:06<00:00,  1.17it/s] \n",
            "epoch:1 iteration:147 D_loss:0.0012219840427860618 G_loss:37.78230667114258: 100%|██████████| 148/148 [02:01<00:00,  1.22it/s] \n",
            "epoch:2 iteration:147 D_loss:0.14257535338401794 G_loss:5.695867538452148: 100%|██████████| 148/148 [02:00<00:00,  1.23it/s]  \n",
            "epoch:3 iteration:147 D_loss:0.18427008390426636 G_loss:5.9189229011535645: 100%|██████████| 148/148 [02:01<00:00,  1.22it/s] \n",
            "epoch:4 iteration:147 D_loss:0.30732491612434387 G_loss:10.859628677368164: 100%|██████████| 148/148 [02:01<00:00,  1.22it/s]\n",
            "epoch:5 iteration:147 D_loss:0.07989838719367981 G_loss:4.98764181137085: 100%|██████████| 148/148 [02:00<00:00,  1.23it/s]  \n",
            "epoch:6 iteration:147 D_loss:0.1332443356513977 G_loss:5.563453674316406: 100%|██████████| 148/148 [02:01<00:00,  1.22it/s]  \n",
            "epoch:7 iteration:147 D_loss:0.12603452801704407 G_loss:5.037387371063232: 100%|██████████| 148/148 [02:00<00:00,  1.23it/s] \n",
            "epoch:8 iteration:147 D_loss:0.15551409125328064 G_loss:3.9912240505218506: 100%|██████████| 148/148 [02:00<00:00,  1.23it/s]\n",
            "epoch:9 iteration:147 D_loss:0.33236801624298096 G_loss:4.4916181564331055: 100%|██████████| 148/148 [02:01<00:00,  1.22it/s]\n",
            "epoch:10 iteration:147 D_loss:0.2403358519077301 G_loss:3.346792697906494: 100%|██████████| 148/148 [02:01<00:00,  1.22it/s]  \n",
            "epoch:11 iteration:147 D_loss:0.2825390696525574 G_loss:3.5562143325805664: 100%|██████████| 148/148 [02:00<00:00,  1.22it/s] \n",
            "epoch:12 iteration:147 D_loss:0.25966572761535645 G_loss:3.4328536987304688: 100%|██████████| 148/148 [02:01<00:00,  1.22it/s]\n",
            "epoch:13 iteration:147 D_loss:0.24126802384853363 G_loss:3.2231125831604004: 100%|██████████| 148/148 [02:08<00:00,  1.15it/s]\n",
            "epoch:14 iteration:147 D_loss:0.4449706971645355 G_loss:2.083430051803589: 100%|██████████| 148/148 [02:01<00:00,  1.22it/s]  \n",
            "epoch:15 iteration:147 D_loss:0.27414461970329285 G_loss:4.07079553604126: 100%|██████████| 148/148 [02:01<00:00,  1.22it/s]  \n",
            "epoch:16 iteration:147 D_loss:0.2647213339805603 G_loss:4.375380992889404: 100%|██████████| 148/148 [02:01<00:00,  1.22it/s]  \n",
            "epoch:17 iteration:147 D_loss:0.20566107332706451 G_loss:3.3695971965789795: 100%|██████████| 148/148 [02:01<00:00,  1.22it/s]\n",
            "epoch:18 iteration:147 D_loss:0.16164322197437286 G_loss:2.9697601795196533: 100%|██████████| 148/148 [02:01<00:00,  1.22it/s]\n",
            "epoch:19 iteration:147 D_loss:0.24221006035804749 G_loss:3.8115146160125732: 100%|██████████| 148/148 [02:02<00:00,  1.21it/s] \n",
            "epoch:20 iteration:147 D_loss:0.18570232391357422 G_loss:4.2258405685424805: 100%|██████████| 148/148 [02:01<00:00,  1.22it/s]\n",
            "epoch:21 iteration:147 D_loss:0.2107473462820053 G_loss:3.160797357559204: 100%|██████████| 148/148 [02:01<00:00,  1.22it/s]  \n",
            "epoch:22 iteration:147 D_loss:0.16597610712051392 G_loss:3.9118430614471436: 100%|██████████| 148/148 [02:02<00:00,  1.21it/s]\n",
            "epoch:23 iteration:147 D_loss:0.16435322165489197 G_loss:3.2602338790893555: 100%|██████████| 148/148 [02:03<00:00,  1.20it/s]\n",
            "epoch:24 iteration:147 D_loss:0.2289552092552185 G_loss:3.0303244590759277: 100%|██████████| 148/148 [02:02<00:00,  1.20it/s] \n",
            "epoch:25 iteration:147 D_loss:0.7100920677185059 G_loss:4.616889953613281: 100%|██████████| 148/148 [02:02<00:00,  1.20it/s]  \n",
            "epoch:26 iteration:147 D_loss:0.1944502294063568 G_loss:3.5987865924835205: 100%|██████████| 148/148 [02:02<00:00,  1.21it/s] \n",
            "epoch:27 iteration:147 D_loss:0.6183154582977295 G_loss:1.528409719467163: 100%|██████████| 148/148 [02:02<00:00,  1.21it/s]  \n",
            "epoch:28 iteration:147 D_loss:1.1044710874557495 G_loss:5.913010597229004: 100%|██████████| 148/148 [02:02<00:00,  1.21it/s]    \n",
            "epoch:29 iteration:147 D_loss:0.1680532991886139 G_loss:3.5195834636688232: 100%|██████████| 148/148 [02:02<00:00,  1.21it/s] \n",
            "epoch:30 iteration:147 D_loss:0.13882531225681305 G_loss:3.467266321182251: 100%|██████████| 148/148 [02:02<00:00,  1.21it/s] \n",
            "epoch:31 iteration:147 D_loss:0.20349225401878357 G_loss:4.064801216125488: 100%|██████████| 148/148 [02:02<00:00,  1.20it/s] \n",
            "epoch:32 iteration:147 D_loss:0.21921700239181519 G_loss:2.5474960803985596: 100%|██████████| 148/148 [02:02<00:00,  1.21it/s]\n",
            "epoch:33 iteration:147 D_loss:0.35055461525917053 G_loss:4.377965450286865: 100%|██████████| 148/148 [02:02<00:00,  1.21it/s] \n",
            "epoch:34 iteration:147 D_loss:0.1725011169910431 G_loss:2.8446433544158936: 100%|██████████| 148/148 [02:02<00:00,  1.21it/s] \n",
            "epoch:35 iteration:147 D_loss:0.278055876493454 G_loss:2.1031529903411865: 100%|██████████| 148/148 [02:02<00:00,  1.21it/s]  \n",
            "epoch:36 iteration:147 D_loss:0.1808929443359375 G_loss:3.3966963291168213: 100%|██████████| 148/148 [02:02<00:00,  1.21it/s] \n",
            "epoch:37 iteration:147 D_loss:0.3118542432785034 G_loss:2.970881462097168: 100%|██████████| 148/148 [02:02<00:00,  1.21it/s]  \n",
            "epoch:38 iteration:147 D_loss:0.2628215551376343 G_loss:2.9674415588378906: 100%|██████████| 148/148 [02:02<00:00,  1.21it/s] \n",
            "epoch:39 iteration:147 D_loss:0.18629634380340576 G_loss:3.3760836124420166: 100%|██████████| 148/148 [02:02<00:00,  1.21it/s]\n",
            "epoch:40 iteration:147 D_loss:1.0968143939971924 G_loss:7.049065113067627: 100%|██████████| 148/148 [02:02<00:00,  1.21it/s]  \n",
            "epoch:41 iteration:147 D_loss:0.34185752272605896 G_loss:3.574380397796631: 100%|██████████| 148/148 [02:02<00:00,  1.21it/s] \n",
            "epoch:42 iteration:147 D_loss:0.34485840797424316 G_loss:4.331480026245117: 100%|██████████| 148/148 [02:02<00:00,  1.21it/s] \n",
            "epoch:43 iteration:147 D_loss:0.20903760194778442 G_loss:3.9128623008728027: 100%|██████████| 148/148 [02:02<00:00,  1.21it/s]\n",
            "epoch:44 iteration:147 D_loss:0.21544721722602844 G_loss:3.069861888885498: 100%|██████████| 148/148 [02:02<00:00,  1.21it/s] \n",
            "epoch:45 iteration:147 D_loss:0.1789442002773285 G_loss:3.6308181285858154: 100%|██████████| 148/148 [02:02<00:00,  1.21it/s] \n",
            "epoch:46 iteration:147 D_loss:1.7489416599273682 G_loss:0.5200985670089722: 100%|██████████| 148/148 [02:02<00:00,  1.21it/s] \n",
            "epoch:47 iteration:147 D_loss:0.17017841339111328 G_loss:3.947138547897339: 100%|██████████| 148/148 [02:02<00:00,  1.21it/s] \n",
            "epoch:48 iteration:147 D_loss:0.3198816776275635 G_loss:5.120651721954346: 100%|██████████| 148/148 [02:02<00:00,  1.21it/s]  \n",
            "epoch:49 iteration:147 D_loss:0.10044272243976593 G_loss:4.021422386169434: 100%|██████████| 148/148 [02:02<00:00,  1.21it/s] \n"
          ]
        }
      ],
      "source": [
        "for epochs in range(50):\n",
        "   iterator = tqdm.tqdm(enumerate(loader, 0), total=len(loader))\n",
        "\n",
        "   for i, data in iterator:\n",
        "       D_optim.zero_grad()\n",
        "\n",
        "       # ➊ 실제 이미지에는 1, 생성된 이미지는 0으로 정답을 설정\n",
        "       label = torch.ones_like(\n",
        "           data[1], dtype=torch.float32).to(device)\n",
        "       label_fake = torch.zeros_like(\n",
        "           data[1], dtype=torch.float32).to(device)\n",
        "\n",
        "       # ➋ 실제 이미지를 감별자에 입력\n",
        "       real = D(data[0].to(device))\n",
        "\n",
        "       # ❸ 실제 이미지에 대한 감별자의 오차를 계산\n",
        "       Dloss_real = nn.BCELoss()(torch.squeeze(real), label)\n",
        "       Dloss_real.backward()\n",
        "\n",
        "       # ➊ 가짜 이미지 생성\n",
        "       noise = torch.randn(label.shape[0], 100, 1, 1, device=device)\n",
        "       fake = G(noise)\n",
        "\n",
        "       # 가짜 이미지를 감별자에 입력\n",
        "       output = D(fake.detach())\n",
        "\n",
        "       # 가짜 이미지에 대한 감별자의 오차를 계산\n",
        "       Dloss_fake = nn.BCELoss()(torch.squeeze(output), label_fake)\n",
        "       Dloss_fake.backward()\n",
        "\n",
        "       # ➋ 감별자의 전체 오차를 학습\n",
        "       Dloss = Dloss_real + Dloss_fake\n",
        "       D_optim.step()\n",
        "\n",
        "       # ➊ 생성자의 학습\n",
        "       G_optim.zero_grad()\n",
        "       output = D(fake)\n",
        "       Gloss = nn.BCELoss()(torch.squeeze(output), label)\n",
        "       Gloss.backward()\n",
        "\n",
        "       G_optim.step()\n",
        "\n",
        "       iterator.set_description(f\"epoch:{epochs} iteration:{i} D_loss:{Dloss} G_loss:{Gloss}\")\n",
        "\n",
        "torch.save(G.state_dict(), \"Generator.pth\")\n",
        "torch.save(D.state_dict(), \"Discriminator.pth\")"
      ]
    },
    {
      "cell_type": "code",
      "execution_count": null,
      "metadata": {
        "id": "jNcQhN8dxGVD",
        "outputId": "24d2565d-3213-41bb-bb21-cfee0d96f710"
      },
      "outputs": [
        {
          "name": "stderr",
          "output_type": "stream",
          "text": [
            "Clipping input data to the valid range for imshow with RGB data ([0..1] for floats or [0..255] for integers). Got range [-1.0..0.9999981].\n"
          ]
        },
        {
          "data": {
            "image/png": "[encoded data removed]",
            "text/plain": [
              "<Figure size 640x480 with 1 Axes>"
            ]
          },
          "metadata": {},
          "output_type": "display_data"
        }
      ],
      "source": [
        "import matplotlib.pyplot as plt\n",
        "\n",
        "with torch.no_grad():\n",
        "   G.load_state_dict(\n",
        "       torch.load(\"./Generator.pth\", map_location=device))\n",
        "\n",
        "   # 특징 공간 상의 랜덤한 하나의 점을 지정\n",
        "   feature_vector = torch.randn(1, 100, 1, 1).to(device)\n",
        "   # 이미지 생성\n",
        "   pred = G(feature_vector).squeeze()\n",
        "   pred = pred.permute(1, 2, 0).cpu().numpy()\n",
        "\n",
        "   plt.imshow(pred)\n",
        "   plt.title(\"predicted image\")\n",
        "   plt.show()"
      ]
    },
    {
      "cell_type": "code",
      "execution_count": null,
      "metadata": {
        "id": "sBTJf2IyxGVE"
      },
      "outputs": [],
      "source": []
    },
    {
      "cell_type": "code",
      "execution_count": null,
      "metadata": {
        "id": "takkuKeAxGVE"
      },
      "outputs": [],
      "source": []
    }
  ],
  "metadata": {
    "kernelspec": {
      "display_name": "Python 3",
      "language": "python",
      "name": "python3"
    },
    "language_info": {
      "codemirror_mode": {
        "name": "ipython",
        "version": 3
      },
      "file_extension": ".py",
      "mimetype": "text/x-python",
      "name": "python",
      "nbconvert_exporter": "python",
      "pygments_lexer": "ipython3",
      "version": "3.12.2"
    },
    "colab": {
      "provenance": []
    }
  },
  "nbformat": 4,
  "nbformat_minor": 0
}